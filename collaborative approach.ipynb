{
 "cells": [
  {
   "cell_type": "code",
   "execution_count": 12,
   "id": "f60e93fa",
   "metadata": {},
   "outputs": [],
   "source": [
    "import pandas as pd\n",
    "import numpy as np\n",
    "from funk_svd import SVD\n",
    "from sklearn.metrics import mean_absolute_error\n",
    "import matplotlib as plt"
   ]
  },
  {
   "cell_type": "code",
   "execution_count": 2,
   "id": "99334870",
   "metadata": {},
   "outputs": [],
   "source": [
    "# Data pipeline\n",
    "PATH = r\"D:\\Projects\\moveilens\"\n",
    "df_rating = pd.DataFrame(pd.read_csv(fr\"{PATH}\\rating.csv\"))\n",
    "pivoted_df = df_rating.iloc[:50000].pivot(index=\"userId\", columns=\"movieId\", values='rating')"
   ]
  },
  {
   "cell_type": "code",
   "execution_count": 67,
   "id": "b29fe8bc",
   "metadata": {},
   "outputs": [
    {
     "name": "stdout",
     "output_type": "stream",
     "text": [
      "[[0.  3.5 0.  ... 0.  0.  0. ]\n",
      " [0.  0.  4.  ... 0.  0.  0. ]\n",
      " [4.  0.  0.  ... 0.  0.  0. ]\n",
      " ...\n",
      " [0.  0.  0.  ... 0.  0.  0. ]\n",
      " [0.  4.  0.  ... 0.  0.  0. ]\n",
      " [4.5 4.  0.  ... 0.  0.  0. ]]\n"
     ]
    }
   ],
   "source": [
    "user_item = pivoted_df.values\n",
    "#user_item[np.isnan(user_item)] = 0\n",
    "print(user_item)"
   ]
  },
  {
   "cell_type": "code",
   "execution_count": 4,
   "id": "c69fe802",
   "metadata": {},
   "outputs": [],
   "source": [
    "df_rating.rename(columns={'userId': 'u_id', 'movieId': 'i_id'}, inplace=True)\n",
    "train = df_rating.sample(frac=0.8)\n",
    "val = df_rating.drop(train.index.tolist()).sample(frac=0.6)\n",
    "test = df_rating.drop(train.index.tolist()).drop(val.index.tolist())"
   ]
  },
  {
   "cell_type": "code",
   "execution_count": 5,
   "id": "d213bd90",
   "metadata": {
    "scrolled": true
   },
   "outputs": [
    {
     "data": {
      "text/html": [
       "<div>\n",
       "<style scoped>\n",
       "    .dataframe tbody tr th:only-of-type {\n",
       "        vertical-align: middle;\n",
       "    }\n",
       "\n",
       "    .dataframe tbody tr th {\n",
       "        vertical-align: top;\n",
       "    }\n",
       "\n",
       "    .dataframe thead th {\n",
       "        text-align: right;\n",
       "    }\n",
       "</style>\n",
       "<table border=\"1\" class=\"dataframe\">\n",
       "  <thead>\n",
       "    <tr style=\"text-align: right;\">\n",
       "      <th></th>\n",
       "      <th>u_id</th>\n",
       "      <th>i_id</th>\n",
       "      <th>rating</th>\n",
       "      <th>timestamp</th>\n",
       "    </tr>\n",
       "  </thead>\n",
       "  <tbody>\n",
       "    <tr>\n",
       "      <th>5</th>\n",
       "      <td>1</td>\n",
       "      <td>112</td>\n",
       "      <td>3.5</td>\n",
       "      <td>2004-09-10 03:09:00</td>\n",
       "    </tr>\n",
       "    <tr>\n",
       "      <th>8</th>\n",
       "      <td>1</td>\n",
       "      <td>253</td>\n",
       "      <td>4.0</td>\n",
       "      <td>2005-04-02 23:35:40</td>\n",
       "    </tr>\n",
       "    <tr>\n",
       "      <th>10</th>\n",
       "      <td>1</td>\n",
       "      <td>293</td>\n",
       "      <td>4.0</td>\n",
       "      <td>2005-04-02 23:31:43</td>\n",
       "    </tr>\n",
       "    <tr>\n",
       "      <th>14</th>\n",
       "      <td>1</td>\n",
       "      <td>367</td>\n",
       "      <td>3.5</td>\n",
       "      <td>2005-04-02 23:53:00</td>\n",
       "    </tr>\n",
       "    <tr>\n",
       "      <th>28</th>\n",
       "      <td>1</td>\n",
       "      <td>1136</td>\n",
       "      <td>3.5</td>\n",
       "      <td>2005-04-02 23:30:09</td>\n",
       "    </tr>\n",
       "    <tr>\n",
       "      <th>37</th>\n",
       "      <td>1</td>\n",
       "      <td>1217</td>\n",
       "      <td>3.5</td>\n",
       "      <td>2005-04-02 23:33:30</td>\n",
       "    </tr>\n",
       "    <tr>\n",
       "      <th>44</th>\n",
       "      <td>1</td>\n",
       "      <td>1258</td>\n",
       "      <td>4.0</td>\n",
       "      <td>2004-09-10 03:13:14</td>\n",
       "    </tr>\n",
       "    <tr>\n",
       "      <th>56</th>\n",
       "      <td>1</td>\n",
       "      <td>1358</td>\n",
       "      <td>4.0</td>\n",
       "      <td>2005-04-02 23:43:39</td>\n",
       "    </tr>\n",
       "    <tr>\n",
       "      <th>59</th>\n",
       "      <td>1</td>\n",
       "      <td>1387</td>\n",
       "      <td>4.0</td>\n",
       "      <td>2005-04-02 23:35:13</td>\n",
       "    </tr>\n",
       "    <tr>\n",
       "      <th>69</th>\n",
       "      <td>1</td>\n",
       "      <td>2100</td>\n",
       "      <td>4.0</td>\n",
       "      <td>2005-04-02 23:52:35</td>\n",
       "    </tr>\n",
       "  </tbody>\n",
       "</table>\n",
       "</div>"
      ],
      "text/plain": [
       "    u_id  i_id  rating            timestamp\n",
       "5      1   112     3.5  2004-09-10 03:09:00\n",
       "8      1   253     4.0  2005-04-02 23:35:40\n",
       "10     1   293     4.0  2005-04-02 23:31:43\n",
       "14     1   367     3.5  2005-04-02 23:53:00\n",
       "28     1  1136     3.5  2005-04-02 23:30:09\n",
       "37     1  1217     3.5  2005-04-02 23:33:30\n",
       "44     1  1258     4.0  2004-09-10 03:13:14\n",
       "56     1  1358     4.0  2005-04-02 23:43:39\n",
       "59     1  1387     4.0  2005-04-02 23:35:13\n",
       "69     1  2100     4.0  2005-04-02 23:52:35"
      ]
     },
     "execution_count": 5,
     "metadata": {},
     "output_type": "execute_result"
    }
   ],
   "source": [
    "test.head(10)"
   ]
  },
  {
   "cell_type": "code",
   "execution_count": 7,
   "id": "686429d7",
   "metadata": {},
   "outputs": [],
   "source": [
    "# Constants\n",
    "LEARNING_RATE = 0.007\n",
    "EPOCH = 50\n",
    "LATENT_FACTORS = 20\n",
    "REG = 0.005"
   ]
  },
  {
   "cell_type": "code",
   "execution_count": 8,
   "id": "c74623fc",
   "metadata": {
    "scrolled": true
   },
   "outputs": [
    {
     "name": "stdout",
     "output_type": "stream",
     "text": [
      "Preprocessing data...\n",
      "\n",
      "Preprocessing data...\n",
      "\n",
      "Epoch 1/50  | val_loss: 0.76 - val_rmse: 0.87 - val_mae: 0.67 - took 3.9 sec\n",
      "Epoch 2/50  | val_loss: 0.74 - val_rmse: 0.86 - val_mae: 0.66 - took 2.6 sec\n",
      "Epoch 3/50  | val_loss: 0.71 - val_rmse: 0.84 - val_mae: 0.65 - took 2.6 sec\n",
      "Epoch 4/50  | val_loss: 0.69 - val_rmse: 0.83 - val_mae: 0.64 - took 2.6 sec\n",
      "Epoch 5/50  | val_loss: 0.67 - val_rmse: 0.82 - val_mae: 0.63 - took 2.6 sec\n",
      "Epoch 6/50  | val_loss: 0.65 - val_rmse: 0.81 - val_mae: 0.62 - took 2.7 sec\n",
      "Epoch 7/50  | val_loss: 0.64 - val_rmse: 0.80 - val_mae: 0.61 - took 3.1 sec\n",
      "Epoch 8/50  | val_loss: 0.63 - val_rmse: 0.80 - val_mae: 0.61 - took 2.7 sec\n",
      "Epoch 9/50  | val_loss: 0.63 - val_rmse: 0.79 - val_mae: 0.60 - took 2.7 sec\n",
      "Epoch 10/50 | val_loss: 0.62 - val_rmse: 0.79 - val_mae: 0.60 - took 2.7 sec\n",
      "Epoch 11/50 | val_loss: 0.62 - val_rmse: 0.79 - val_mae: 0.60 - took 2.7 sec\n",
      "Epoch 12/50 | val_loss: 0.62 - val_rmse: 0.79 - val_mae: 0.60 - took 2.7 sec\n",
      "Epoch 13/50 | val_loss: 0.62 - val_rmse: 0.79 - val_mae: 0.60 - took 2.7 sec\n",
      "Epoch 14/50 | val_loss: 0.62 - val_rmse: 0.79 - val_mae: 0.60 - took 2.7 sec\n",
      "Epoch 15/50 | val_loss: 0.62 - val_rmse: 0.79 - val_mae: 0.60 - took 2.6 sec\n",
      "Epoch 16/50 | val_loss: 0.62 - val_rmse: 0.79 - val_mae: 0.60 - took 2.7 sec\n",
      "Epoch 17/50 | val_loss: 0.62 - val_rmse: 0.79 - val_mae: 0.60 - took 2.7 sec\n",
      "Epoch 18/50 | val_loss: 0.62 - val_rmse: 0.79 - val_mae: 0.60 - took 2.6 sec\n",
      "Epoch 19/50 | val_loss: 0.62 - val_rmse: 0.79 - val_mae: 0.60 - took 2.7 sec\n",
      "Epoch 20/50 | val_loss: 0.62 - val_rmse: 0.79 - val_mae: 0.60 - took 2.9 sec\n",
      "Epoch 21/50 | val_loss: 0.62 - val_rmse: 0.79 - val_mae: 0.60 - took 2.8 sec\n",
      "Epoch 22/50 | val_loss: 0.62 - val_rmse: 0.79 - val_mae: 0.60 - took 2.9 sec\n",
      "Epoch 23/50 | val_loss: 0.62 - val_rmse: 0.79 - val_mae: 0.60 - took 3.1 sec\n",
      "Epoch 24/50 | val_loss: 0.62 - val_rmse: 0.79 - val_mae: 0.60 - took 2.9 sec\n",
      "Epoch 25/50 | val_loss: 0.62 - val_rmse: 0.79 - val_mae: 0.60 - took 3.0 sec\n",
      "Epoch 26/50 | val_loss: 0.62 - val_rmse: 0.79 - val_mae: 0.60 - took 3.3 sec\n",
      "Epoch 27/50 | val_loss: 0.62 - val_rmse: 0.79 - val_mae: 0.60 - took 3.6 sec\n",
      "Epoch 28/50 | val_loss: 0.62 - val_rmse: 0.79 - val_mae: 0.60 - took 3.6 sec\n",
      "Epoch 29/50 | val_loss: 0.62 - val_rmse: 0.79 - val_mae: 0.60 - took 3.1 sec\n",
      "Epoch 30/50 | val_loss: 0.62 - val_rmse: 0.79 - val_mae: 0.60 - took 3.1 sec\n",
      "Epoch 31/50 | val_loss: 0.62 - val_rmse: 0.79 - val_mae: 0.60 - took 2.7 sec\n",
      "Epoch 32/50 | val_loss: 0.62 - val_rmse: 0.79 - val_mae: 0.60 - took 2.6 sec\n",
      "Epoch 33/50 | val_loss: 0.62 - val_rmse: 0.79 - val_mae: 0.60 - took 2.7 sec\n",
      "Epoch 34/50 | val_loss: 0.62 - val_rmse: 0.79 - val_mae: 0.60 - took 2.7 sec\n",
      "Epoch 35/50 | val_loss: 0.63 - val_rmse: 0.79 - val_mae: 0.60 - took 2.6 sec\n",
      "Epoch 36/50 | val_loss: 0.63 - val_rmse: 0.79 - val_mae: 0.60 - took 2.6 sec\n",
      "Epoch 37/50 | val_loss: 0.63 - val_rmse: 0.79 - val_mae: 0.60 - took 2.7 sec\n",
      "Epoch 38/50 | val_loss: 0.63 - val_rmse: 0.79 - val_mae: 0.60 - took 2.6 sec\n",
      "Epoch 39/50 | val_loss: 0.63 - val_rmse: 0.79 - val_mae: 0.60 - took 2.6 sec\n",
      "Epoch 40/50 | val_loss: 0.63 - val_rmse: 0.79 - val_mae: 0.60 - took 2.6 sec\n",
      "Epoch 41/50 | val_loss: 0.63 - val_rmse: 0.79 - val_mae: 0.60 - took 2.6 sec\n",
      "Epoch 42/50 | val_loss: 0.63 - val_rmse: 0.79 - val_mae: 0.60 - took 2.6 sec\n",
      "Epoch 43/50 | val_loss: 0.63 - val_rmse: 0.79 - val_mae: 0.60 - took 2.6 sec\n",
      "Epoch 44/50 | val_loss: 0.63 - val_rmse: 0.79 - val_mae: 0.60 - took 2.6 sec\n",
      "Epoch 45/50 | val_loss: 0.63 - val_rmse: 0.79 - val_mae: 0.60 - took 2.6 sec\n",
      "Epoch 46/50 | val_loss: 0.63 - val_rmse: 0.79 - val_mae: 0.60 - took 2.6 sec\n",
      "Epoch 47/50 | val_loss: 0.63 - val_rmse: 0.79 - val_mae: 0.60 - took 2.6 sec\n",
      "Epoch 48/50 | val_loss: 0.63 - val_rmse: 0.79 - val_mae: 0.60 - took 2.6 sec\n",
      "Epoch 49/50 | val_loss: 0.63 - val_rmse: 0.79 - val_mae: 0.60 - took 2.6 sec\n",
      "Epoch 50/50 | val_loss: 0.63 - val_rmse: 0.80 - val_mae: 0.60 - took 2.6 sec\n",
      "\n",
      "Training took 2 min and 30 sec\n"
     ]
    },
    {
     "data": {
      "text/plain": [
       "<funk_svd.svd.SVD at 0x23c0034b688>"
      ]
     },
     "execution_count": 8,
     "metadata": {},
     "output_type": "execute_result"
    }
   ],
   "source": [
    "# Training\n",
    "model_svd = SVD(lr=LEARNING_RATE, reg=REG, n_epochs=EPOCH, n_factors=LATENT_FACTORS, early_stopping=False, shuffle=False, min_rating=1, max_rating=5)\n",
    "model_svd.fit(X=train, X_val=val)"
   ]
  },
  {
   "cell_type": "code",
   "execution_count": 13,
   "id": "2c7d6e76",
   "metadata": {
    "scrolled": false
   },
   "outputs": [
    {
     "name": "stdout",
     "output_type": "stream",
     "text": [
      "Test MAE: 0.60\n"
     ]
    }
   ],
   "source": [
    "# Testing\n",
    "predicted = model_svd.predict(test)\n",
    "metric = mean_absolute_error(test['rating'], predicted)\n",
    "print(f'Test MAE: {metric:.2f}')"
   ]
  },
  {
   "cell_type": "code",
   "execution_count": 66,
   "id": "1f6159c1",
   "metadata": {},
   "outputs": [
    {
     "ename": "TypeError",
     "evalue": "'int' object is not subscriptable",
     "output_type": "error",
     "traceback": [
      "\u001b[1;31m---------------------------------------------------------------------------\u001b[0m",
      "\u001b[1;31mTypeError\u001b[0m                                 Traceback (most recent call last)",
      "\u001b[1;32m~\\AppData\\Local\\Temp\\ipykernel_26984\\1014681213.py\u001b[0m in \u001b[0;36m<module>\u001b[1;34m\u001b[0m\n\u001b[1;32m----> 1\u001b[1;33m \u001b[0mpredicted\u001b[0m \u001b[1;33m=\u001b[0m \u001b[0mmodel_svd\u001b[0m\u001b[1;33m.\u001b[0m\u001b[0mpredict\u001b[0m\u001b[1;33m(\u001b[0m\u001b[1;36m23\u001b[0m\u001b[1;33m,\u001b[0m \u001b[1;36m23123\u001b[0m\u001b[1;33m)\u001b[0m\u001b[1;33m\u001b[0m\u001b[1;33m\u001b[0m\u001b[0m\n\u001b[0m",
      "\u001b[1;32mD:\\Progs\\Conda\\envs\\tf\\lib\\site-packages\\funk_svd\\svd.py\u001b[0m in \u001b[0;36mpredict\u001b[1;34m(self, X, clip)\u001b[0m\n\u001b[0;32m    218\u001b[0m         return [\n\u001b[0;32m    219\u001b[0m             \u001b[0mself\u001b[0m\u001b[1;33m.\u001b[0m\u001b[0mpredict_pair\u001b[0m\u001b[1;33m(\u001b[0m\u001b[0mu_id\u001b[0m\u001b[1;33m,\u001b[0m \u001b[0mi_id\u001b[0m\u001b[1;33m,\u001b[0m \u001b[0mclip\u001b[0m\u001b[1;33m)\u001b[0m\u001b[1;33m\u001b[0m\u001b[1;33m\u001b[0m\u001b[0m\n\u001b[1;32m--> 220\u001b[1;33m             \u001b[1;32mfor\u001b[0m \u001b[0mu_id\u001b[0m\u001b[1;33m,\u001b[0m \u001b[0mi_id\u001b[0m \u001b[1;32min\u001b[0m \u001b[0mzip\u001b[0m\u001b[1;33m(\u001b[0m\u001b[0mX\u001b[0m\u001b[1;33m[\u001b[0m\u001b[1;34m'u_id'\u001b[0m\u001b[1;33m]\u001b[0m\u001b[1;33m,\u001b[0m \u001b[0mX\u001b[0m\u001b[1;33m[\u001b[0m\u001b[1;34m'i_id'\u001b[0m\u001b[1;33m]\u001b[0m\u001b[1;33m)\u001b[0m\u001b[1;33m\u001b[0m\u001b[1;33m\u001b[0m\u001b[0m\n\u001b[0m\u001b[0;32m    221\u001b[0m         ]\n\u001b[0;32m    222\u001b[0m \u001b[1;33m\u001b[0m\u001b[0m\n",
      "\u001b[1;31mTypeError\u001b[0m: 'int' object is not subscriptable"
     ]
    }
   ],
   "source": [
    "predicted = model_svd.predict()"
   ]
  },
  {
   "cell_type": "code",
   "execution_count": null,
   "id": "ee713466",
   "metadata": {},
   "outputs": [],
   "source": [
    "df_movie = pd.DataFrame(pd.read_csv(fr\"{PATH}\\movie.csv\"))"
   ]
  },
  {
   "cell_type": "code",
   "execution_count": 62,
   "id": "8771287c",
   "metadata": {},
   "outputs": [
    {
     "name": "stdout",
     "output_type": "stream",
     "text": [
      "Recommendation is:\n",
      "[4.294850298279461, 2.1154673999224904, 5, 4.5126854632264335, 5, 4.755279968441896, 4.045976065079307, 1.978948783126258, 4.210673537891176, 2.3143863939478817, 5, 3.9813482936807687, 5, 4.83662146547618, 4.668597809126402, 3.917443429812702, 4.704381470259394, 4.572389222368271, 3.213604937076598, 5, 4.078226546040213]\n"
     ]
    }
   ],
   "source": [
    "# Recommending\n",
    "import random\n",
    "number_of_recommends = 10\n",
    "random_user = random.randint(1,50000)\n",
    "user_access = df_rating.loc[df_rating['u_id'] == random_user]\n",
    "predicted = model_svd.predict(user_access)\n",
    "ind = 0\n",
    "print(\"Recommendation is:\")\n",
    "for r in range(number_of_recommends):\n",
    "    for index, row in user_access.iterrows():\n",
    "        if predicted[ind] > 4.5:\n",
    "            film_row = df_movie.loc[df_movie['movieId'] == row['i_id']]\n",
    "            print(film_row['title'])\n",
    "print(predicted)"
   ]
  },
  {
   "cell_type": "code",
   "execution_count": null,
   "id": "f73c48fb",
   "metadata": {},
   "outputs": [],
   "source": []
  },
  {
   "cell_type": "code",
   "execution_count": null,
   "id": "1cf6a472",
   "metadata": {},
   "outputs": [],
   "source": []
  },
  {
   "cell_type": "code",
   "execution_count": null,
   "id": "2229b36e",
   "metadata": {},
   "outputs": [],
   "source": []
  }
 ],
 "metadata": {
  "kernelspec": {
   "display_name": "tf",
   "language": "python",
   "name": "tf"
  },
  "language_info": {
   "codemirror_mode": {
    "name": "ipython",
    "version": 3
   },
   "file_extension": ".py",
   "mimetype": "text/x-python",
   "name": "python",
   "nbconvert_exporter": "python",
   "pygments_lexer": "ipython3",
   "version": "3.7.13"
  }
 },
 "nbformat": 4,
 "nbformat_minor": 5
}
