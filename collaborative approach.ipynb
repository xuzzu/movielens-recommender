{
 "cells": [
  {
   "cell_type": "code",
   "execution_count": 2,
   "id": "f60e93fa",
   "metadata": {},
   "outputs": [],
   "source": [
    "import pandas as pd\n",
    "import numpy as np\n",
    "from funk_svd import SVD\n",
    "from sklearn.metrics import mean_absolute_error\n",
    "import matplotlib as plt"
   ]
  },
  {
   "cell_type": "code",
   "execution_count": 5,
   "id": "99334870",
   "metadata": {},
   "outputs": [],
   "source": [
    "# Data pipeline\n",
    "PATH = r\"D:\\Projects\\moveilens\"\n",
    "df_rating = pd.DataFrame(pd.read_csv(fr\"{PATH}\\rating.csv\"))\n",
    "pivoted_df = df_rating.iloc[:50000].pivot(index=\"userId\", columns=\"movieId\", values='rating')"
   ]
  },
  {
   "cell_type": "code",
   "execution_count": 6,
   "id": "b29fe8bc",
   "metadata": {},
   "outputs": [
    {
     "name": "stdout",
     "output_type": "stream",
     "text": [
      "[[nan 3.5 nan ... nan nan nan]\n",
      " [nan nan 4.  ... nan nan nan]\n",
      " [4.  nan nan ... nan nan nan]\n",
      " ...\n",
      " [nan nan nan ... nan nan nan]\n",
      " [nan 4.  nan ... nan nan nan]\n",
      " [4.5 4.  nan ... nan nan nan]]\n"
     ]
    }
   ],
   "source": [
    "user_item = pivoted_df.values\n",
    "#user_item[np.isnan(user_item)] = 0\n",
    "print(user_item)"
   ]
  },
  {
   "cell_type": "code",
   "execution_count": 7,
   "id": "c69fe802",
   "metadata": {},
   "outputs": [],
   "source": [
    "df_rating.rename(columns={'userId': 'u_id', 'movieId': 'i_id'}, inplace=True)\n",
    "train = df_rating.sample(frac=0.8)\n",
    "val = df_rating.drop(train.index.tolist()).sample(frac=0.6)\n",
    "test = df_rating.drop(train.index.tolist()).drop(val.index.tolist())"
   ]
  },
  {
   "cell_type": "code",
   "execution_count": 8,
   "id": "d213bd90",
   "metadata": {
    "scrolled": true
   },
   "outputs": [
    {
     "data": {
      "text/html": [
       "<div>\n",
       "<style scoped>\n",
       "    .dataframe tbody tr th:only-of-type {\n",
       "        vertical-align: middle;\n",
       "    }\n",
       "\n",
       "    .dataframe tbody tr th {\n",
       "        vertical-align: top;\n",
       "    }\n",
       "\n",
       "    .dataframe thead th {\n",
       "        text-align: right;\n",
       "    }\n",
       "</style>\n",
       "<table border=\"1\" class=\"dataframe\">\n",
       "  <thead>\n",
       "    <tr style=\"text-align: right;\">\n",
       "      <th></th>\n",
       "      <th>u_id</th>\n",
       "      <th>i_id</th>\n",
       "      <th>rating</th>\n",
       "      <th>timestamp</th>\n",
       "    </tr>\n",
       "  </thead>\n",
       "  <tbody>\n",
       "    <tr>\n",
       "      <th>10</th>\n",
       "      <td>1</td>\n",
       "      <td>293</td>\n",
       "      <td>4.0</td>\n",
       "      <td>2005-04-02 23:31:43</td>\n",
       "    </tr>\n",
       "    <tr>\n",
       "      <th>29</th>\n",
       "      <td>1</td>\n",
       "      <td>1193</td>\n",
       "      <td>3.5</td>\n",
       "      <td>2005-04-02 23:31:30</td>\n",
       "    </tr>\n",
       "    <tr>\n",
       "      <th>34</th>\n",
       "      <td>1</td>\n",
       "      <td>1208</td>\n",
       "      <td>3.5</td>\n",
       "      <td>2005-04-02 23:33:35</td>\n",
       "    </tr>\n",
       "    <tr>\n",
       "      <th>37</th>\n",
       "      <td>1</td>\n",
       "      <td>1217</td>\n",
       "      <td>3.5</td>\n",
       "      <td>2005-04-02 23:33:30</td>\n",
       "    </tr>\n",
       "    <tr>\n",
       "      <th>38</th>\n",
       "      <td>1</td>\n",
       "      <td>1219</td>\n",
       "      <td>4.0</td>\n",
       "      <td>2004-09-10 03:13:14</td>\n",
       "    </tr>\n",
       "    <tr>\n",
       "      <th>44</th>\n",
       "      <td>1</td>\n",
       "      <td>1258</td>\n",
       "      <td>4.0</td>\n",
       "      <td>2004-09-10 03:13:14</td>\n",
       "    </tr>\n",
       "    <tr>\n",
       "      <th>49</th>\n",
       "      <td>1</td>\n",
       "      <td>1278</td>\n",
       "      <td>4.0</td>\n",
       "      <td>2004-09-10 03:13:06</td>\n",
       "    </tr>\n",
       "    <tr>\n",
       "      <th>74</th>\n",
       "      <td>1</td>\n",
       "      <td>2173</td>\n",
       "      <td>4.0</td>\n",
       "      <td>2005-04-02 23:51:27</td>\n",
       "    </tr>\n",
       "    <tr>\n",
       "      <th>81</th>\n",
       "      <td>1</td>\n",
       "      <td>2542</td>\n",
       "      <td>4.0</td>\n",
       "      <td>2005-04-02 23:44:07</td>\n",
       "    </tr>\n",
       "    <tr>\n",
       "      <th>99</th>\n",
       "      <td>1</td>\n",
       "      <td>3030</td>\n",
       "      <td>3.0</td>\n",
       "      <td>2005-04-02 23:29:08</td>\n",
       "    </tr>\n",
       "  </tbody>\n",
       "</table>\n",
       "</div>"
      ],
      "text/plain": [
       "    u_id  i_id  rating            timestamp\n",
       "10     1   293     4.0  2005-04-02 23:31:43\n",
       "29     1  1193     3.5  2005-04-02 23:31:30\n",
       "34     1  1208     3.5  2005-04-02 23:33:35\n",
       "37     1  1217     3.5  2005-04-02 23:33:30\n",
       "38     1  1219     4.0  2004-09-10 03:13:14\n",
       "44     1  1258     4.0  2004-09-10 03:13:14\n",
       "49     1  1278     4.0  2004-09-10 03:13:06\n",
       "74     1  2173     4.0  2005-04-02 23:51:27\n",
       "81     1  2542     4.0  2005-04-02 23:44:07\n",
       "99     1  3030     3.0  2005-04-02 23:29:08"
      ]
     },
     "execution_count": 8,
     "metadata": {},
     "output_type": "execute_result"
    }
   ],
   "source": [
    "test.head(10)"
   ]
  },
  {
   "cell_type": "code",
   "execution_count": 11,
   "id": "686429d7",
   "metadata": {},
   "outputs": [],
   "source": [
    "# Constants\n",
    "LEARNING_RATE = 0.007\n",
    "EPOCH = 10\n",
    "LATENT_FACTORS = 20\n",
    "REG = 0.005"
   ]
  },
  {
   "cell_type": "code",
   "execution_count": null,
   "id": "c74623fc",
   "metadata": {
    "scrolled": true
   },
   "outputs": [
    {
     "name": "stdout",
     "output_type": "stream",
     "text": [
      "Preprocessing data...\n",
      "\n",
      "Preprocessing data...\n",
      "\n"
     ]
    }
   ],
   "source": [
    "# Training\n",
    "model_svd = SVD(lr=LEARNING_RATE, reg=REG, n_epochs=EPOCH, n_factors=LATENT_FACTORS, early_stopping=False, shuffle=False, min_rating=1, max_rating=5)\n",
    "model_svd.fit(X=train, X_val=val)"
   ]
  },
  {
   "cell_type": "code",
   "execution_count": null,
   "id": "2c7d6e76",
   "metadata": {
    "scrolled": false
   },
   "outputs": [],
   "source": [
    "# Testing\n",
    "predicted = model_svd.predict(test)\n",
    "metric = mean_absolute_error(test['rating'], predicted)\n",
    "print(f'Test MAE: {metric:.2f}')"
   ]
  },
  {
   "cell_type": "code",
   "execution_count": null,
   "id": "1f6159c1",
   "metadata": {},
   "outputs": [],
   "source": [
    "predicted = model_svd.predict()\n",
    "print(predicted)"
   ]
  },
  {
   "cell_type": "code",
   "execution_count": null,
   "id": "9de29a72",
   "metadata": {},
   "outputs": [],
   "source": []
  }
 ],
 "metadata": {
  "kernelspec": {
   "display_name": "tf",
   "language": "python",
   "name": "tf"
  },
  "language_info": {
   "codemirror_mode": {
    "name": "ipython",
    "version": 3
   },
   "file_extension": ".py",
   "mimetype": "text/x-python",
   "name": "python",
   "nbconvert_exporter": "python",
   "pygments_lexer": "ipython3",
   "version": "3.7.13"
  }
 },
 "nbformat": 4,
 "nbformat_minor": 5
}
